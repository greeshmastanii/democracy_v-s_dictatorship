{
 "cells": [
  {
   "cell_type": "code",
   "execution_count": 23,
   "metadata": {},
   "outputs": [
    {
     "data": {
      "text/plain": [
       "([<matplotlib.axis.XTick at 0x7f738f7ec7f0>,\n",
       "  <matplotlib.axis.XTick at 0x7f738f7ec7c0>],\n",
       " [Text(1, 0, 'Democracy'), Text(2, 0, 'Dictatorship')])"
      ]
     },
     "execution_count": 23,
     "metadata": {},
     "output_type": "execute_result"
    },
    {
     "data": {
      "image/png": "[encoded data removed]",
      "text/plain": [
       "<Figure size 432x288 with 1 Axes>"
      ]
     },
     "metadata": {
      "needs_background": "light"
     },
     "output_type": "display_data"
    }
   ],
   "source": [
    "import pandas as pd\n",
    "import matplotlib.pyplot as plt\n",
    "import numpy as np\n",
    "csv_data_file=pd.read_csv('/home/greesh/Documents/verdatumcode/Democracy-Dictatorship_Index.csv')\n",
    "data=csv_data_file.set_index('Regime')['Type'].to_dict()  \n",
    "democracy=[]\n",
    "dictatorship=[]\n",
    "count=0\n",
    "for i in data.values():\n",
    "    if i== 'Democracy':\n",
    "        democracy.append(i)\n",
    "    number_of_democracy=len(democracy)\n",
    "    if i=='Dictatorship':\n",
    "         dictatorship.append(i)\n",
    "    number_of_dictatorship=len(dictatorship)\n",
    "total_number=[]\n",
    "total_number.append(number_of_democracy)\n",
    "total_number.append(number_of_dictatorship)\n",
    "plt.title('Democracy v/s Dictatorship in the world')\n",
    "plt.xlabel('Type of government')\n",
    "plt.ylabel('N.o of countries')\n",
    "x = 1,2\n",
    "plt.bar(1, height=total_number[0] ,color='yellow')\n",
    "plt.bar(2, height=total_number[1], color='red')\n",
    "plt.xticks(x, ['Democracy','Dictatorship'])\n",
    "    \n"
   ]
  },
  {
   "cell_type": "code",
   "execution_count": null,
   "metadata": {},
   "outputs": [],
   "source": []
  },
  {
   "cell_type": "code",
   "execution_count": null,
   "metadata": {},
   "outputs": [],
   "source": []
  }
 ],
 "metadata": {
  "kernelspec": {
   "display_name": "Python 3",
   "language": "python",
   "name": "python3"
  },
  "language_info": {
   "codemirror_mode": {
    "name": "ipython",
    "version": 3
   },
   "file_extension": ".py",
   "mimetype": "text/x-python",
   "name": "python",
   "nbconvert_exporter": "python",
   "pygments_lexer": "ipython3",
   "version": "3.8.2"
  }
 },
 "nbformat": 4,
 "nbformat_minor": 4
}
